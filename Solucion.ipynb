{
 "cells": [
  {
   "cell_type": "code",
   "execution_count": 1,
   "metadata": {},
   "outputs": [],
   "source": [
    "import nltk\n",
    "import re\n",
    "import numpy as np\n",
    "import os\n",
    "from scipy.spatial.distance import cosine\n",
    "\n",
    "reemplazo_acentos = {'á': 'a', 'é': 'e', 'í': 'i', 'ó': 'o', 'ú': 'u'}\n",
    "#nltk.download(\"punkt\")\n",
    "#cargo los stopwords\n",
    "with open(\"spanish.txt\",\"r\",encoding=\"utf-8\") as sp:\n",
    "    stop_list=[word.strip() for word in sp.readlines()]\n",
    "#cargo el libro\n"
   ]
  },
  {
   "cell_type": "markdown",
   "metadata": {},
   "source": [
    "## Funciones\n",
    "\n",
    "No uso todas. Creo que la mejor solucion es con objetos alucina."
   ]
  },
  {
   "cell_type": "code",
   "execution_count": 2,
   "metadata": {},
   "outputs": [],
   "source": [
    "def prepro(strp):\n",
    "    limpio = re.sub(r'[áéíóú]', lambda x: reemplazo_acentos[x.group()], strp)\n",
    "    # Tokenización y eliminación de puntuación\n",
    "    tokens = nltk.word_tokenize(re.sub(r'[^\\w\\s]', '', limpio), language=\"spanish\")\n",
    "    tokens=[token for token in tokens if token not in stop_list]\n",
    "    return tokens"
   ]
  },
  {
   "cell_type": "code",
   "execution_count": 3,
   "metadata": {},
   "outputs": [],
   "source": [
    "class Vector():\n",
    "    def __init__(self, corpus) -> None:\n",
    "\n",
    "        self.corpus = list(corpus.values())\n",
    "        self.files= {x:i for i,x in enumerate(list(corpus.keys()))}\n",
    "\n",
    "        self.dicc = {}\n",
    "        self.set_dic()\n",
    "\n",
    "        self.n_doc = len(self.files)\n",
    "        self.n_terms = len(self.dicc)\n",
    "\n",
    "        self.tf = np.zeros((self.n_doc, self.n_terms), dtype=int)\n",
    "        self.idf = np.zeros(self.n_terms)\n",
    "        self.tf_idf = np.zeros((self.n_doc, self.n_terms), dtype=float)\n",
    "        self.tf_idf_keys={}    \n",
    "\n",
    "    def set_dic(self):\n",
    "        tempdic=[]\n",
    "        for v in self.corpus:\n",
    "            tempdic.extend(v)\n",
    "        self.dicc={x:i for i, x in enumerate(set(tempdic))}\n",
    "        \n",
    "    def get_idf(self):\n",
    "        self.idf = np.count_nonzero(self.tf, axis=0)\n",
    "\n",
    "    def get_tf_idf(self):\n",
    "        self.tf_idf=self.tf*np.log2(self.n_doc/self.idf)\n",
    "\n",
    "    def get_tf(self,mode='glob',topn = False, minv = False):\n",
    "        res_dic=[]       \n",
    "        #para cada elemento en corpus \n",
    "        for i,v in enumerate(self.corpus):\n",
    "            #llevamos cuenta de las palabras. Siguiendo el diccionario general\n",
    "            dicc=dict.fromkeys(self.dicc.keys(), 0)\n",
    "\n",
    "            #contea las palabras en corpus\n",
    "            for word in v:\n",
    "                dicc[word]=dicc.get(word,0) + 1\n",
    "            \n",
    "            #crea el array\n",
    "            conteo=np.array(list(dicc.values()))\n",
    "\n",
    "            match mode:\n",
    "                case 'glob':\n",
    "                    pass\n",
    "\n",
    "                case 'topn':\n",
    "                    #como hacemos en el ordenado\n",
    "                    #filtramos\n",
    "                    dicc=dict(sorted(dicc.items(), key=lambda item: item[1],reverse=True))\n",
    "                    dicc=list(dicc)[:topn]\n",
    "                    res_dic.extend(dicc)\n",
    "\n",
    "                case 'minv':\n",
    "                    dicc={k:v for k,v in dicc.items() if v>minv}\n",
    "                    dicc=list(dicc)\n",
    "                    res_dic.extend(dicc)\n",
    "                    #filtramos, pero ahora minv\n",
    "                    \n",
    "            self.tf[i]=conteo\n",
    "\n",
    "        if len(res_dic)!=0:\n",
    "            res_dic=list(set(res_dic))\n",
    "            indx=[self.dicc.get(i,0) for i in res_dic]\n",
    "            self.tf=self.tf[:,indx]\n",
    "            self.tf_idf_keys={i:x for x,i in enumerate(res_dic)}\n",
    "\n",
    "        self.get_idf()\n",
    "        self.get_tf_idf()\n",
    "            \n",
    "    def get_vec(self, case, files= None):\n",
    "        if files==None:\n",
    "            fil=list(self.files.values())\n",
    "        else:\n",
    "            fil=[self.files.get(x,0) for x in files]\n",
    "        match case:\n",
    "            case 'tf':\n",
    "                vector=np.mean(self.tf[fil,:],axis=0)\n",
    "            case 'tf-idf':\n",
    "                vector=np.mean(self.tf_idf[fil,:],axis=0)\n",
    "\n",
    "        return vector\n",
    "    \n",
    "    def new_get_vec(self,file,mode='tf'):\n",
    "        dicc=dict.fromkeys(self.tf_idf_keys.keys(),0)\n",
    "        for word in file:\n",
    "            if word in dicc.keys():\n",
    "                dicc[word]=dicc.get(word,0)+1\n",
    "        dicc=np.array(list(dicc.values()))\n",
    "        match mode:\n",
    "            case 'tf':\n",
    "                return dicc\n",
    "            case 'tf-idf':\n",
    "                tf_idf=dicc*np.log2(self.n_doc/self.idf)\n",
    "                return tf_idf\n",
    "    \n",
    "    def sim_cor(self,file,vec_files,mode='tf'):\n",
    "        vect=self.get_vec(mode,vec_files)\n",
    "        comp=self.new_get_vec(file, mode)\n",
    "        distance = cosine(comp,vect)\n",
    "        return distance \n",
    "\n",
    "    def show_topn(self,topn,files=None):\n",
    "        if files==None:\n",
    "            fil=list(self.files.values())\n",
    "        else:\n",
    "            fil=[self.files.get(x,0) for x in files]\n",
    "        \n",
    "\n"
   ]
  },
  {
   "cell_type": "markdown",
   "metadata": {},
   "source": [
    "## Cargo archivos, separo grupos"
   ]
  },
  {
   "cell_type": "code",
   "execution_count": 4,
   "metadata": {},
   "outputs": [],
   "source": [
    "compendio={}\n",
    "articulos=[\"articulos/\"+ruta for ruta in os.listdir('articulos')]\n",
    "\n",
    "for articulo in articulos:\n",
    "    with open(articulo,\"r\",encoding=\"utf-8\") as b:\n",
    "        strp=b.read().lower()\n",
    "    strp=prepro(strp)\n",
    "    compendio[articulo.replace(\"articulos/\",'')]=strp\n"
   ]
  },
  {
   "cell_type": "code",
   "execution_count": 5,
   "metadata": {},
   "outputs": [],
   "source": [
    "test_lebron=compendio.pop('NBA.txt')\n",
    "test_mgs=compendio.pop('Videojuego_de_sigilo.txt')\n"
   ]
  },
  {
   "cell_type": "code",
   "execution_count": 6,
   "metadata": {},
   "outputs": [],
   "source": [
    "lebron=['Pie_(unidad).txt',\n",
    "        'Ohio.txt',\n",
    "        'Akron.txt',\n",
    "        'Baloncesto.txt',\n",
    "        'Cleveland_Cavaliers.txt',\n",
    "        'Draft_de_la_NBA.txt',\n",
    "        'Draft_de_la_NBA_de_2003.txt',\n",
    "        'Estados_Unidos.txt',\n",
    "        'Kilogramo.txt',\n",
    "        'LeBron_James.txt']\n",
    "\n",
    "mgs=['Entertainment_Software_Rating_Board.txt',\n",
    "     'Hideo_Kojima.txt',\n",
    "     'Konami.txt',\n",
    "     'Metal_Gear_Solid.txt',\n",
    "     'Metal_Gear_Solid_Digital_Graphic_Novel.txt',\n",
    "     'Metal_Gear_Solid__The_Twin_Snakes.txt',\n",
    "     'Microsoft.txt',\n",
    "     'Pan_European_Game_Information.txt',\n",
    "     'Videojuego_de_t%C3%A1ctica_en_tiempo_real.txt',\n",
    "     'Videojuego_de_un_jugador.txt']"
   ]
  },
  {
   "cell_type": "markdown",
   "metadata": {},
   "source": [
    "## Pruebas y vectores"
   ]
  },
  {
   "cell_type": "markdown",
   "metadata": {},
   "source": [
    "#### TF, TF-IDF"
   ]
  },
  {
   "cell_type": "code",
   "execution_count": 7,
   "metadata": {},
   "outputs": [],
   "source": [
    "vector = Vector(compendio)\n",
    "vector.get_tf(mode='topn',topn=10) "
   ]
  },
  {
   "cell_type": "code",
   "execution_count": 8,
   "metadata": {},
   "outputs": [
    {
     "data": {
      "text/plain": [
       "{'comic': 0,\n",
       " 'incluye': 1,\n",
       " 'twin': 2,\n",
       " 'videojuegos': 3,\n",
       " 'metal': 4,\n",
       " 'aproximadamente': 5,\n",
       " 'estadounidenses': 6,\n",
       " 'cavaliers': 7,\n",
       " 'medida': 8,\n",
       " 'original': 9,\n",
       " 'lebron': 10,\n",
       " 'km²': 11,\n",
       " 'paises': 12,\n",
       " 'historia': 13,\n",
       " 'mayor': 14,\n",
       " 'association': 15,\n",
       " '2': 16,\n",
       " 'estadounidense': 17,\n",
       " 'software': 18,\n",
       " 'dado': 19,\n",
       " 'puntos': 20,\n",
       " 'windows': 21,\n",
       " 'mejores': 22,\n",
       " 'batalla': 23,\n",
       " 'modo': 24,\n",
       " 'agregada': 25,\n",
       " 'clasificacion': 26,\n",
       " '2007': 27,\n",
       " 'goma': 28,\n",
       " 'videojuego': 29,\n",
       " 'eleccion': 30,\n",
       " 'reglas': 31,\n",
       " 'bosh': 32,\n",
       " 'jugador': 33,\n",
       " 'coherentes': 34,\n",
       " 'nombre': 35,\n",
       " 'conferencia': 36,\n",
       " 'practicas': 37,\n",
       " 'jugabilidad': 38,\n",
       " 'draft': 39,\n",
       " 'tambien': 40,\n",
       " 'edades': 41,\n",
       " 'gamecube': 42,\n",
       " 'compañia': 43,\n",
       " '000': 44,\n",
       " 'equipo': 45,\n",
       " 'ciudad': 46,\n",
       " 'personas': 47,\n",
       " 'primera': 48,\n",
       " 'mm': 49,\n",
       " 'ganador': 50,\n",
       " 'nintendo': 51,\n",
       " 'esrb': 52,\n",
       " 'parte': 53,\n",
       " 'sistema': 54,\n",
       " 'fabricacion': 55,\n",
       " 'pegi': 56,\n",
       " 'gear': 57,\n",
       " 'version': 58,\n",
       " 'unidos': 59,\n",
       " 'snakes': 60,\n",
       " 'si': 61,\n",
       " 'tactica': 62,\n",
       " 'consejo': 63,\n",
       " 'balon': 64,\n",
       " 'snake': 65,\n",
       " 'solo': 66,\n",
       " 'inteligencia': 67,\n",
       " 'tiempo': 68,\n",
       " 'portatil': 69,\n",
       " 'unidades': 70,\n",
       " 'the': 71,\n",
       " 'clasificaciones': 72,\n",
       " 'internacional': 73,\n",
       " 'aumento': 74,\n",
       " 'konami': 75,\n",
       " 'cm': 76,\n",
       " 'contenido': 77,\n",
       " 'c': 78,\n",
       " 'microsoft': 79,\n",
       " 'asistencias': 80,\n",
       " 'elegibles': 81,\n",
       " 'entertainment': 82,\n",
       " 'rebotes': 83,\n",
       " '2006': 84,\n",
       " 'tras': 85,\n",
       " 'nba': 86,\n",
       " 'guerra': 87,\n",
       " 'reclamaciones': 88,\n",
       " 'ltd': 89,\n",
       " 'unidad': 90,\n",
       " 'cerca': 91,\n",
       " 'playstation': 92,\n",
       " 'canasta': 93,\n",
       " 'kojima': 94,\n",
       " 'millones': 95,\n",
       " 'solid': 96,\n",
       " 'juegos': 97,\n",
       " 'kilogramo': 98,\n",
       " 'arcade': 99,\n",
       " 'año': 100,\n",
       " 'magnitudes': 101,\n",
       " 'descriptores': 102,\n",
       " 'anuncio': 103,\n",
       " 'estrategia': 104,\n",
       " 'poblacion': 105,\n",
       " 'akron': 106,\n",
       " 'cleveland': 107,\n",
       " 'longitud': 108,\n",
       " 'masa': 109,\n",
       " 'metanfetamina': 110,\n",
       " 'femenino': 111,\n",
       " 'empresa': 112,\n",
       " 'h': 113,\n",
       " 'deporte': 114,\n",
       " 'pais': 115,\n",
       " 'triples': 116,\n",
       " 'james': 117,\n",
       " 'nuevo': 118,\n",
       " 'equipos': 119,\n",
       " 'region': 120,\n",
       " 'juego': 121,\n",
       " 'ohio': 122,\n",
       " 'tacticas': 123,\n",
       " 'referencia': 124,\n",
       " 'temporada': 125,\n",
       " 'partido': 126,\n",
       " 'jugadores': 127,\n",
       " 'pie': 128,\n",
       " 'baloncesto': 129,\n",
       " 'plg': 130,\n",
       " 'real': 131,\n",
       " 'cavs': 132,\n",
       " 'productos': 133,\n",
       " 'puede': 134,\n",
       " 'condado': 135,\n",
       " 'años': 136,\n",
       " 'playoffs': 137,\n",
       " 'ser': 138,\n",
       " 'finales': 139,\n",
       " 'chris': 140}"
      ]
     },
     "execution_count": 8,
     "metadata": {},
     "output_type": "execute_result"
    }
   ],
   "source": [
    "vector.tf_idf_keys"
   ]
  },
  {
   "cell_type": "markdown",
   "metadata": {},
   "source": [
    "#### W2V"
   ]
  },
  {
   "cell_type": "code",
   "execution_count": 9,
   "metadata": {},
   "outputs": [],
   "source": [
    "from gensim.models import Word2Vec as w2v\n",
    "def article_vector(article):\n",
    "    vectors = [modelo.wv[word] for word in article if word in modelo.wv]\n",
    "    return np.mean(vectors, axis=0)"
   ]
  },
  {
   "cell_type": "code",
   "execution_count": 12,
   "metadata": {},
   "outputs": [],
   "source": [
    "sentences=list(compendio.values())\n",
    "modelo = w2v(sentences=sentences,vector_size=100,window=5,min_count=5,epochs=5,workers=6)\n",
    "\n",
    "test_lebron_vector=article_vector(test_lebron)\n",
    "test_mgs_vector=article_vector(test_mgs)\n",
    "\n",
    "grupo_lebron={k:v for k,v in compendio.items() if k in lebron}\n",
    "grupo_mgs={k:v for k,v in compendio.items() if k in mgs}\n",
    "\n",
    "# Obtener representación vectorial de los artículos en grupo1 y grupo2\n",
    "grupo_lebron_vectors = np.mean([article_vector(article) for article in grupo_lebron.values()],axis=0)\n",
    "grupo_mgs_vectors = np.mean([article_vector(article) for article in grupo_mgs.values()],axis=0)"
   ]
  },
  {
   "cell_type": "markdown",
   "metadata": {},
   "source": [
    "#### Testeo"
   ]
  },
  {
   "cell_type": "markdown",
   "metadata": {},
   "source": [
    "<img src=\"https://i1.sndcdn.com/artworks-9vp6lBh9T65XVu1X-xMPTjg-t500x500.jpg\" alt=\"drawing\" width=\"200\"/> <img src=\"https://w7.pngwing.com/pngs/867/35/png-transparent-arrow-right-face-funny-expressions-blue-pointing-pointers-directions-happy.png\" alt=\"drawing\" width=\"200\"/> <img src=\"https://media.tenor.com/qBNk0a044ogAAAAe/metal-gear-solid-otacon.png\" alt=\"drawing\" width=\"300\"/>\n",
    "\n",
    "\n",
    "**Lebron** en **Lebron**"
   ]
  },
  {
   "cell_type": "code",
   "execution_count": 19,
   "metadata": {},
   "outputs": [
    {
     "name": "stdout",
     "output_type": "stream",
     "text": [
      "Distancia coseno (TF): 0.4407553428637969\n",
      "Distancia coseno (TF-IDF): 0.5529962597297646\n",
      "Distancia coseno (w2v): 3.74631375477108e-06\n"
     ]
    }
   ],
   "source": [
    "print(f\"Distancia coseno (TF): {vector.sim_cor(test_lebron,vec_files=lebron,mode='tf')}\")\n",
    "print(f\"Distancia coseno (TF-IDF): {vector.sim_cor(test_lebron,vec_files=lebron,mode='tf-idf')}\")\n",
    "\n",
    "similarity_grupo_lebron = cosine(test_lebron_vector, grupo_lebron_vectors) \n",
    "print(\"Distancia coseno (w2v):\", similarity_grupo_lebron)"
   ]
  },
  {
   "cell_type": "markdown",
   "metadata": {},
   "source": [
    "**Lebron** en **Metal Gear**"
   ]
  },
  {
   "cell_type": "code",
   "execution_count": 20,
   "metadata": {},
   "outputs": [
    {
     "name": "stdout",
     "output_type": "stream",
     "text": [
      "Distancia coseno (TF): 0.8657530251484995\n",
      "Distancia coseno (TF-IDF): 0.9761068460012565\n",
      "Distancia coseno (w2v) 2.2601483992357174e-05\n"
     ]
    }
   ],
   "source": [
    "print(f\"Distancia coseno (TF): {vector.sim_cor(test_lebron,vec_files=mgs,mode='tf')}\")\n",
    "print(f\"Distancia coseno (TF-IDF): {vector.sim_cor(test_lebron,vec_files=mgs,mode='tf-idf')}\")\n",
    "similarity_grupo_lebron = cosine(test_lebron_vector, grupo_mgs_vectors) \n",
    "print(\"Distancia coseno (w2v)\", similarity_grupo_lebron)"
   ]
  },
  {
   "cell_type": "markdown",
   "metadata": {},
   "source": [
    "**Metal Gear** en **Lebron**"
   ]
  },
  {
   "cell_type": "code",
   "execution_count": 21,
   "metadata": {},
   "outputs": [
    {
     "name": "stdout",
     "output_type": "stream",
     "text": [
      "Distancia coseno (TF): 0.7870840588061763\n",
      "Distancia coseno (TF-IDF): 0.9421443221336212\n",
      "Distancia coseno (w2v): 3.482735078941257e-05\n"
     ]
    }
   ],
   "source": [
    "print(f\"Distancia coseno (TF): {vector.sim_cor(test_mgs,vec_files=lebron,mode='tf')}\")\n",
    "print(f\"Distancia coseno (TF-IDF): {vector.sim_cor(test_mgs,vec_files=lebron,mode='tf-idf')}\")\n",
    "\n",
    "similarity_grupo_mgs = cosine(test_mgs_vector, grupo_lebron_vectors) \n",
    "print(\"Distancia coseno (w2v):\", similarity_grupo_mgs)"
   ]
  },
  {
   "cell_type": "markdown",
   "metadata": {},
   "source": [
    "**Metal Gear** en **Metal Gear**"
   ]
  },
  {
   "cell_type": "code",
   "execution_count": 22,
   "metadata": {},
   "outputs": [
    {
     "name": "stdout",
     "output_type": "stream",
     "text": [
      "Distancia coseno (TF): 0.36891613827363356\n",
      "Distancia coseno (TF-IDF): 0.53555007254139\n",
      "Distancia coseno (w2v): 8.984553926394412e-06\n"
     ]
    }
   ],
   "source": [
    "print(f\"Distancia coseno (TF): {vector.sim_cor(test_mgs,vec_files=mgs,mode='tf')}\")\n",
    "print(f\"Distancia coseno (TF-IDF): {vector.sim_cor(test_mgs,vec_files=mgs,mode='tf-idf')}\")\n",
    "\n",
    "similarity_grupo_mgs = cosine(test_mgs_vector, grupo_mgs_vectors) \n",
    "print(\"Distancia coseno (w2v):\", similarity_grupo_mgs)"
   ]
  },
  {
   "cell_type": "markdown",
   "metadata": {},
   "source": [
    "## Interpretacion\n",
    "\n",
    "Intente colocar una al lado de otra, pero no pude (aun no se interpretar)\n",
    "\n",
    "| TF                | Lebron   | MGS   |\n",
    "| :---------------- | :------: | ----: |\n",
    "| Lebron            |   0.44   | 0.86 |\n",
    "| MGS               |   0.79   | 0.37 |\n",
    "\n",
    "\n",
    "\n",
    "| TF-IDF            | Lebron   | MGS   |\n",
    "| :---------------- | :------: | ----: |\n",
    "| Lebron            |   0.55   | 0.98 |\n",
    "| MGS               |   0.94   | 0.54 |\n",
    "\n",
    "\n",
    "\n",
    "\n",
    "\n",
    "| W2V                | Lebron   | MGS   |\n",
    "| :---------------- | :------: | ----: |\n",
    "| Lebron            |   3.74e-06  | 2.26e-05 |\n",
    "| MGS               |   3.48e-05   | 8.98e-06 |\n"
   ]
  }
 ],
 "metadata": {
  "kernelspec": {
   "display_name": "Python 3",
   "language": "python",
   "name": "python3"
  },
  "language_info": {
   "codemirror_mode": {
    "name": "ipython",
    "version": 3
   },
   "file_extension": ".py",
   "mimetype": "text/x-python",
   "name": "python",
   "nbconvert_exporter": "python",
   "pygments_lexer": "ipython3",
   "version": "3.12.3"
  }
 },
 "nbformat": 4,
 "nbformat_minor": 2
}
