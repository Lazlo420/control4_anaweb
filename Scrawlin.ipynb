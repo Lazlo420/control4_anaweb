{
 "cells": [
  {
   "cell_type": "markdown",
   "metadata": {},
   "source": [
    "Lo dumpee todo en archivos para que no tenga que correr esto, debe valer algun punto extra"
   ]
  },
  {
   "cell_type": "code",
   "execution_count": 8,
   "metadata": {},
   "outputs": [],
   "source": [
    "import requests as rq\n",
    "from bs4 import BeautifulSoup\n",
    "\n",
    "groupA=\"https://es.wikipedia.org/wiki/Metal_Gear_Solid\"\n",
    "groupB=\"https://es.wikipedia.org/wiki/LeBron_James\""
   ]
  },
  {
   "cell_type": "code",
   "execution_count": 18,
   "metadata": {},
   "outputs": [],
   "source": [
    "def fetch_p(page):\n",
    "    soup=BeautifulSoup(page)\n",
    "    contenido=soup.find('div',id=\"bodyContent\")\n",
    "    parrafos=[parrafo.text for parrafo in contenido.findAll('p')]\n",
    "    return \" \".join(parrafos)\n",
    "\n",
    "def crawl(lonk):\n",
    "    dicc={}\n",
    "    page=rq.get(lonk).content\n",
    "    dicc[lonk]=fetch_p(page)\n",
    "    soup=BeautifulSoup(page)\n",
    "    contenido=soup.find('div',id=\"bodyContent\")\n",
    "    links=[\"https://es.wikipedia.org\"+link['href'] for link in contenido.findAll(\"a\") if (\"href\" in link.attrs) and (\"Flag\" not in link['href']) and (\"Art%C\" not in link['href']) and ('title' in link.attrs) and(link['href'].startswith('/wiki'))]\n",
    "    links=list(set(links[:15]))\n",
    "    if len(links)>=10:\n",
    "        links=links[:10]\n",
    "    for link in links:\n",
    "        req=rq.get(link).content\n",
    "        dicc[link]=fetch_p(req)\n",
    "    return dicc"
   ]
  },
  {
   "cell_type": "code",
   "execution_count": 19,
   "metadata": {},
   "outputs": [],
   "source": [
    "#mgs=crawl(groupA)\n",
    "lbj=crawl(groupB)"
   ]
  },
  {
   "cell_type": "code",
   "execution_count": 20,
   "metadata": {},
   "outputs": [],
   "source": [
    "# for k,v in mgs.items():\n",
    "#     with open(k.replace(\"https://es.wikipedia.org/wiki/\",\"\")+\".txt\",\"w\",encoding=\"utf-8\") as file:\n",
    "#          file.write(v)\n",
    "for k,v in lbj.items():\n",
    "    with open(k.replace(\"https://es.wikipedia.org/wiki/\",\"\")+\".txt\",\"w\",encoding=\"utf-8\") as file:\n",
    "         file.write(v)"
   ]
  }
 ],
 "metadata": {
  "kernelspec": {
   "display_name": "venv",
   "language": "python",
   "name": "python3"
  },
  "language_info": {
   "codemirror_mode": {
    "name": "ipython",
    "version": 3
   },
   "file_extension": ".py",
   "mimetype": "text/x-python",
   "name": "python",
   "nbconvert_exporter": "python",
   "pygments_lexer": "ipython3",
   "version": "3.10.12"
  }
 },
 "nbformat": 4,
 "nbformat_minor": 2
}
